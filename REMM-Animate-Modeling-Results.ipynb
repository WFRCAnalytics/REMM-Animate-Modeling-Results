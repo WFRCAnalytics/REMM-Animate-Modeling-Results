{
 "cells": [
  {
   "cell_type": "markdown",
   "metadata": {},
   "source": [
    "# Ideas\n",
    "- what to show at parcel vs taz level\n",
    "- taz level comparisons for different modeling runs?"
   ]
  },
  {
   "cell_type": "code",
   "execution_count": 1,
   "metadata": {},
   "outputs": [],
   "source": [
    "import arcpy\n",
    "from arcpy import env\n",
    "import os\n",
    "from arcgis import GIS\n",
    "from arcgis.features import GeoAccessor\n",
    "import pandas as pd\n",
    "import glob\n",
    "import imageio\n",
    "\n",
    "arcpy.env.overwriteOutput = True\n",
    "arcpy.env.parallelProcessingFactor = \"90%\"\n",
    "\n",
    "# show all columns\n",
    "pd.options.display.max_columns = None\n",
    "\n",
    "# pd.DataFrame.spatial.from_featureclass(???)\n",
    "# df.spatial.to_featureclass(location=???,sanitize_columns=False)"
   ]
  },
  {
   "cell_type": "code",
   "execution_count": 2,
   "metadata": {},
   "outputs": [],
   "source": [
    "if not os.path.exists('Outputs'):\n",
    "    os.makedirs('Outputs')\n",
    "    \n",
    "outputs = ['.\\\\Outputs', \"scratch.gdb\", 'results.gdb']\n",
    "gdb = os.path.join(outputs[0], outputs[1])\n",
    "gdb2 = os.path.join(outputs[0], outputs[2])\n",
    "\n",
    "if not arcpy.Exists(gdb):\n",
    "    arcpy.CreateFileGDB_management(outputs[0], outputs[1])\n",
    "\n",
    "if not arcpy.Exists(gdb2):\n",
    "    arcpy.CreateFileGDB_management(outputs[0], outputs[2])"
   ]
  },
  {
   "cell_type": "code",
   "execution_count": 4,
   "metadata": {},
   "outputs": [],
   "source": [
    "parcels = r'.\\\\Inputs\\\\parcels.gdb\\\\parcels_2019_20220429'\n",
    "regions = r\".\\Inputs\\REMM_Reporting_Areas.shp\"\n",
    "taz832 = r\".\\Inputs\\TAZ_832_ID_Only.shp\""
   ]
  },
  {
   "cell_type": "code",
   "execution_count": 5,
   "metadata": {},
   "outputs": [],
   "source": [
    "# spatial join to get the subarea\n",
    "target_features = parcels\n",
    "join_features = regions\n",
    "output_features = os.path.join(gdb, \"_01_parcels_regions\")\n",
    "\n",
    "fieldmappings = arcpy.FieldMappings()\n",
    "fieldmappings.addTable(target_features)\n",
    "fieldmappings.addTable(join_features)\n",
    "\n",
    "# attribute to summarize\n",
    "fieldindex = fieldmappings.findFieldMapIndex('NewSA')\n",
    "fieldmap = fieldmappings.getFieldMap(fieldindex)\n",
    "fieldmap.mergeRule = 'First'\n",
    "fieldmappings.replaceFieldMap(fieldindex, fieldmap)\n",
    "\n",
    "# run the spatial join\n",
    "sj = arcpy.SpatialJoin_analysis(target_features, join_features, output_features,'JOIN_ONE_TO_ONE', \"KEEP_ALL\", \n",
    "                           fieldmappings, \"HAVE_THEIR_CENTER_IN\")"
   ]
  },
  {
   "cell_type": "code",
   "execution_count": 7,
   "metadata": {},
   "outputs": [],
   "source": [
    "parcels_sdf = pd.DataFrame.spatial.from_featureclass(sj[0])\n",
    "taz832_sdf = pd.DataFrame.spatial.from_featureclass(taz832)"
   ]
  },
  {
   "cell_type": "code",
   "execution_count": 8,
   "metadata": {},
   "outputs": [
    {
     "data": {
      "text/plain": [
       "Index(['FID', 'TAZID', 'SORT', 'CO_TAZID', 'SUBAREAID', 'EXTERNAL', 'ACRES',\n",
       "       'DEVACRES', 'X', 'Y', 'ADJ_XY', 'CBD', 'TERMTIME', 'PRKCSTPERM',\n",
       "       'PRKCSTTEMP', 'WALK100', 'ECOEDPASS', 'FREEFARE', 'MPO', 'MPO_MSID',\n",
       "       'MODEL_SPC', 'MPO_MSID2', 'MODEL_SPC2', 'COUNTY', 'CO_FIPS', 'CO_NAME',\n",
       "       'CITY', 'CITY_FIPS', 'CITY_NAME', 'DISTSUPER', 'DSUP_NAME', 'DISTLRG',\n",
       "       'DLRG_NAME', 'DISTMED', 'DMED_NAME', 'DISTSML', 'DSML_NAME', 'AIRSAGE',\n",
       "       'WF_AIRSAGE', 'SLC', 'NAAPM25', 'SHAPE'],\n",
       "      dtype='object')"
      ]
     },
     "execution_count": 8,
     "metadata": {},
     "output_type": "execute_result"
    }
   ],
   "source": [
    "taz832_sdf.columns"
   ]
  },
  {
   "cell_type": "code",
   "execution_count": 9,
   "metadata": {},
   "outputs": [
    {
     "data": {
      "text/plain": [
       "Index(['OBJECTID', 'Join_Count', 'TARGET_FID', 'parcel_id_REMM', 'CO_NAME',\n",
       "       'TAZID_832', 'NewSA', 'SHAPE'],\n",
       "      dtype='object')"
      ]
     },
     "execution_count": 9,
     "metadata": {},
     "output_type": "execute_result"
    }
   ],
   "source": [
    "parcels_sdf.columns"
   ]
  },
  {
   "cell_type": "code",
   "execution_count": 10,
   "metadata": {},
   "outputs": [],
   "source": [
    "# dua = parcels_sdf[['parcel_id_REMM','SHAPE']].merge(base[['parcel_id','max_dua']], left_on='parcel_id_REMM',right_on='parcel_id', how='left')\n",
    "# dua.spatial.to_featureclass(location=os.path.join(gdb, \"_02_base_dua\"),sanitize_columns=False)"
   ]
  },
  {
   "cell_type": "code",
   "execution_count": 11,
   "metadata": {},
   "outputs": [],
   "source": [
    "# dev = parcels_sdf[['parcel_id_REMM','SHAPE']].merge(base[['parcel_id','was_developed']], left_on='parcel_id_REMM',right_on='parcel_id', how='left')\n",
    "# dev.spatial.to_featureclass(location=os.path.join(gdb, \"_02_base_dua\"),sanitize_columns=False)"
   ]
  },
  {
   "cell_type": "code",
   "execution_count": 12,
   "metadata": {},
   "outputs": [],
   "source": [
    "data_folder = r\".\\Progression_Metrics\"\n",
    "csvs = glob.glob(os.path.join(data_folder,'*_parcel_progression_metrics.csv'))"
   ]
  },
  {
   "cell_type": "code",
   "execution_count": 13,
   "metadata": {},
   "outputs": [
    {
     "data": {
      "text/plain": [
       "['.\\\\Progression_Metrics\\\\run_315_year_2019_parcel_progression_metrics.csv',\n",
       " '.\\\\Progression_Metrics\\\\run_315_year_2025_parcel_progression_metrics.csv',\n",
       " '.\\\\Progression_Metrics\\\\run_315_year_2035_parcel_progression_metrics.csv',\n",
       " '.\\\\Progression_Metrics\\\\run_315_year_2045_parcel_progression_metrics.csv',\n",
       " '.\\\\Progression_Metrics\\\\run_315_year_2050_parcel_progression_metrics.csv']"
      ]
     },
     "execution_count": 13,
     "metadata": {},
     "output_type": "execute_result"
    }
   ],
   "source": [
    "# use any keyword to filter lists\n",
    "years_to_process = ['2019','2025','2035','2045','2050']\n",
    "csvs2 = [csv for csv in csvs if any(year in csv for year in years_to_process)]\n",
    "csvs2\n",
    "\n",
    "# for csv in csvs:\n",
    "#     if any(year in csv for year in years_to_process):\n",
    "#         print(csv)\n",
    "\n"
   ]
  },
  {
   "cell_type": "code",
   "execution_count": 14,
   "metadata": {},
   "outputs": [],
   "source": [
    "# csvs"
   ]
  },
  {
   "cell_type": "code",
   "execution_count": 15,
   "metadata": {},
   "outputs": [],
   "source": [
    "# outfiles = []\n",
    "# for csv in csvs2:\n",
    "#     year = os.path.basename(csv)[13:17]\n",
    "#     df = pd.read_csv(csv)\n",
    "#     dua = parcels_sdf[['parcel_id_REMM','SHAPE']].merge(df[['parcel_id','max_dua']], left_on='parcel_id_REMM',right_on='parcel_id', how='left')\n",
    "#     del dua['parcel_id']\n",
    "#     print('exporting {}'.format(os.path.join(gdb, \"dua_{}\".format(year))))\n",
    "#     outfiles.append(os.path.join(gdb, \"dua_{}\".format(year)))\n",
    "#     dua.spatial.to_featureclass(location=os.path.join(gdb, \"dua_{}\".format(year)),sanitize_columns=False)"
   ]
  },
  {
   "cell_type": "code",
   "execution_count": 16,
   "metadata": {},
   "outputs": [
    {
     "name": "stdout",
     "output_type": "stream",
     "text": [
      "exporting .\\Outputs\\scratch.gdb\\dev_2019\n",
      "exporting .\\Outputs\\scratch.gdb\\dev_2025\n",
      "exporting .\\Outputs\\scratch.gdb\\dev_2035\n",
      "exporting .\\Outputs\\scratch.gdb\\dev_2045\n",
      "exporting .\\Outputs\\scratch.gdb\\dev_2050\n"
     ]
    }
   ],
   "source": [
    "outfiles = []\n",
    "for csv in csvs2:\n",
    "    year = os.path.basename(csv)[13:17]\n",
    "    df = pd.read_csv(csv)\n",
    "    parcels_dev = parcels_sdf[['parcel_id_REMM', 'TAZID_832']].merge(df[['parcel_id','was_developed']], left_on='parcel_id_REMM',right_on='parcel_id', how='left')\n",
    "    taz_dev = parcels_dev.groupby('TAZID_832')[['was_developed']].sum().reset_index()\n",
    "    taz_dev.columns = ['TAZID_832', 'was_developed']\n",
    "    taz_join = taz832_sdf.merge(taz_dev, left_on='TAZID', right_on='TAZID_832', how='left')\n",
    "\n",
    "\n",
    "    print('exporting {}'.format(os.path.join(gdb, \"dev_{}\".format(year))))\n",
    "    outfiles.append(os.path.join(gdb, \"dev_{}\".format(year)))\n",
    "    taz_join.spatial.to_featureclass(location=os.path.join(gdb, \"dev_{}\".format(year)),sanitize_columns=False)"
   ]
  },
  {
   "cell_type": "code",
   "execution_count": 17,
   "metadata": {},
   "outputs": [],
   "source": [
    "# outfiles = [r'.\\Outputs\\scratch.gdb\\dua_2019', r'.\\Outputs\\scratch.gdb\\dua_2020', r'.\\Outputs\\scratch.gdb\\dua_2021', r'.\\Outputs\\scratch.gdb\\dua_2022']"
   ]
  },
  {
   "cell_type": "code",
   "execution_count": 18,
   "metadata": {},
   "outputs": [
    {
     "data": {
      "text/plain": [
       "['.\\\\Outputs\\\\scratch.gdb\\\\dev_2019',\n",
       " '.\\\\Outputs\\\\scratch.gdb\\\\dev_2025',\n",
       " '.\\\\Outputs\\\\scratch.gdb\\\\dev_2035',\n",
       " '.\\\\Outputs\\\\scratch.gdb\\\\dev_2045',\n",
       " '.\\\\Outputs\\\\scratch.gdb\\\\dev_2050']"
      ]
     },
     "execution_count": 18,
     "metadata": {},
     "output_type": "execute_result"
    }
   ],
   "source": [
    "outfiles"
   ]
  },
  {
   "cell_type": "code",
   "execution_count": 19,
   "metadata": {},
   "outputs": [],
   "source": [
    "# project = arcpy.mp.ArcGISProject(r\".\\Analyze_REMM_Results.aprx\")\n",
    "\n",
    "# for f in outfiles:\n",
    "#     year = os.path.basename(f)[4:8]\n",
    "\n",
    "#     dua_lyr = arcpy.MakeFeatureLayer_management(f, \"dua_lyr\")\n",
    "#     dua_lyrx= arcpy.SaveToLayerFile_management(dua_lyr, os.path.join(outputs[0],\"dua_{}.lyrx\".format(year)), \"RELATIVE\")\n",
    "    \n",
    "#     m = project.listMaps(\"Data\")[0]\n",
    "#     old_dua_lyr = m.listLayers('*dua*')[0]\n",
    "\n",
    "#     project.updateConnectionProperties(old_dua_lyr, dua_lyrx)\n",
    "\n",
    "    \n",
    "#     # lyrFile = arcpy.mp.LayerFile(dua_lyrx)\n",
    "\n",
    "\n",
    "#     layout = project.listLayouts(\"Test\")[0]\n",
    "#     if layout.mapSeries.enabled:\n",
    "#         for pageNum in range(1, layout.mapSeries.pageCount + 1):\n",
    "#             layout.mapSeries.currentPageNumber = pageNum\n",
    "#             # layout.exportToJPEG(os.path.join(r'.\\Outputs', f\"{layout.mapSeries.pageRow.NewSA}.jpg\"),300)\n",
    "#             layout.exportToJPEG(os.path.join(r'.\\Outputs', \"{}_MaxDUA_{}.jpg\".format(layout.mapSeries.pageRow.NewSA, year)),300)\n"
   ]
  },
  {
   "cell_type": "code",
   "execution_count": null,
   "metadata": {},
   "outputs": [],
   "source": [
    "project = arcpy.mp.ArcGISProject(r\".\\Analyze_REMM_Results.aprx\")\n",
    "\n",
    "jpgs = []\n",
    "for f in outfiles:\n",
    "    year = os.path.basename(f)[4:8]\n",
    "\n",
    "    dev_lyr = arcpy.MakeFeatureLayer_management(f, \"dev_lyr\")\n",
    "    # dev_lyrx= arcpy.SaveToLayerFile_management(dev_lyr, os.path.join(outputs[0],\"dev_{}.lyrx\".format(year)), \"RELATIVE\")\n",
    "    \n",
    "    m = project.listMaps(\"Data\")[0]\n",
    "    old_dev_lyr = m.listLayers('*dev*')[0]\n",
    "\n",
    "    old_dev_lyr.updateConnectionProperties(old_dev_lyr.connectionProperties, dev_lyr[0].connectionProperties)\n",
    "\n",
    "    \n",
    "    # lyrFile = arcpy.mp.LayerFile(dua_lyrx)\n",
    "\n",
    "\n",
    "    layout = project.listLayouts(\"Test\")[0]\n",
    "    if layout.mapSeries.enabled:\n",
    "        for pageNum in range(1, layout.mapSeries.pageCount + 1):\n",
    "            layout.mapSeries.currentPageNumber = pageNum\n",
    "\n",
    "            yearText = layout.listElements(\"TEXT_ELEMENT\", \"year\")[0]\n",
    "            yearText.text = year\n",
    "\n",
    "            jpg = os.path.join(r'.\\Outputs', \"{}_Dev_{}.jpg\".format(layout.mapSeries.pageRow.NewSA, year))\n",
    "            jpgs.append(jpg)\n",
    "            layout.exportToJPEG(jpg,300)\n"
   ]
  },
  {
   "cell_type": "code",
   "execution_count": null,
   "metadata": {},
   "outputs": [],
   "source": [
    "images = []\n",
    "jpgs.sort()\n",
    "for jpg in jpgs:\n",
    "    images.append(imageio.imread(jpg))\n",
    "    \n",
    "\n",
    "with imageio.get_writer(r'.\\Outputs\\Parcels_Developed_Full_Region.gif', mode='I', duration = 1) as writer:\n",
    "    for jpg in jpgs:\n",
    "        image = imageio.imread(jpg)\n",
    "        writer.append_data(image)"
   ]
  },
  {
   "cell_type": "code",
   "execution_count": null,
   "metadata": {},
   "outputs": [],
   "source": [
    "del project"
   ]
  }
 ],
 "metadata": {
  "interpreter": {
   "hash": "d657bb250ec970b20532561b3a87d14bbf82ce653c71023131e868b5848d28d1"
  },
  "kernelspec": {
   "display_name": "Clone",
   "language": "python",
   "name": "clone"
  },
  "language_info": {
   "codemirror_mode": {
    "name": "ipython",
    "version": 3
   },
   "file_extension": ".py",
   "mimetype": "text/x-python",
   "name": "python",
   "nbconvert_exporter": "python",
   "pygments_lexer": "ipython3",
   "version": "3.7.11"
  },
  "orig_nbformat": 4
 },
 "nbformat": 4,
 "nbformat_minor": 2
}
